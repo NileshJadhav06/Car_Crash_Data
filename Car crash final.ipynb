{
 "cells": [
  {
   "cell_type": "markdown",
   "metadata": {},
   "source": [
    "# 1. Problem Statement"
   ]
  },
  {
   "cell_type": "raw",
   "metadata": {},
   "source": [
    "You are hired by the Government to do an analysis of car crashes. You are provided details \n",
    "of car crashes, among which some people survived and some didn't. You have to help the\n",
    "government in predicting whether a person will survive or not on the basis of the information \n",
    "given in the data set so as to provide insights that will help the government to make stronger\n",
    "laws for car manufacturers to ensure safety measures. Also, find out the important factors \n",
    "on the basis of which you made your predictions."
   ]
  },
  {
   "cell_type": "markdown",
   "metadata": {},
   "source": [
    "# 2. Import Libraries"
   ]
  },
  {
   "cell_type": "code",
   "execution_count": 1,
   "metadata": {},
   "outputs": [],
   "source": [
    "import numpy as np\n",
    "import pandas as pd"
   ]
  },
  {
   "cell_type": "code",
   "execution_count": 2,
   "metadata": {},
   "outputs": [
    {
     "data": {
      "text/html": [
       "<div>\n",
       "<style scoped>\n",
       "    .dataframe tbody tr th:only-of-type {\n",
       "        vertical-align: middle;\n",
       "    }\n",
       "\n",
       "    .dataframe tbody tr th {\n",
       "        vertical-align: top;\n",
       "    }\n",
       "\n",
       "    .dataframe thead th {\n",
       "        text-align: right;\n",
       "    }\n",
       "</style>\n",
       "<table border=\"1\" class=\"dataframe\">\n",
       "  <thead>\n",
       "    <tr style=\"text-align: right;\">\n",
       "      <th></th>\n",
       "      <th>Unnamed: 0</th>\n",
       "      <th>dvcat</th>\n",
       "      <th>weight</th>\n",
       "      <th>Survived</th>\n",
       "      <th>airbag</th>\n",
       "      <th>seatbelt</th>\n",
       "      <th>frontal</th>\n",
       "      <th>sex</th>\n",
       "      <th>ageOFocc</th>\n",
       "      <th>yearacc</th>\n",
       "      <th>yearVeh</th>\n",
       "      <th>abcat</th>\n",
       "      <th>occRole</th>\n",
       "      <th>deploy</th>\n",
       "      <th>injSeverity</th>\n",
       "      <th>caseid</th>\n",
       "    </tr>\n",
       "  </thead>\n",
       "  <tbody>\n",
       "    <tr>\n",
       "      <th>0</th>\n",
       "      <td>0</td>\n",
       "      <td>55+</td>\n",
       "      <td>27.078</td>\n",
       "      <td>Not_Survived</td>\n",
       "      <td>none</td>\n",
       "      <td>none</td>\n",
       "      <td>1</td>\n",
       "      <td>m</td>\n",
       "      <td>32</td>\n",
       "      <td>1997</td>\n",
       "      <td>1987.0</td>\n",
       "      <td>unavail</td>\n",
       "      <td>driver</td>\n",
       "      <td>0</td>\n",
       "      <td>4.0</td>\n",
       "      <td>2:13:2</td>\n",
       "    </tr>\n",
       "    <tr>\n",
       "      <th>1</th>\n",
       "      <td>1</td>\n",
       "      <td>25-39</td>\n",
       "      <td>89.627</td>\n",
       "      <td>Not_Survived</td>\n",
       "      <td>airbag</td>\n",
       "      <td>belted</td>\n",
       "      <td>0</td>\n",
       "      <td>f</td>\n",
       "      <td>54</td>\n",
       "      <td>1997</td>\n",
       "      <td>1994.0</td>\n",
       "      <td>nodeploy</td>\n",
       "      <td>driver</td>\n",
       "      <td>0</td>\n",
       "      <td>4.0</td>\n",
       "      <td>2:17:1</td>\n",
       "    </tr>\n",
       "    <tr>\n",
       "      <th>2</th>\n",
       "      <td>2</td>\n",
       "      <td>55+</td>\n",
       "      <td>27.078</td>\n",
       "      <td>Not_Survived</td>\n",
       "      <td>none</td>\n",
       "      <td>belted</td>\n",
       "      <td>1</td>\n",
       "      <td>m</td>\n",
       "      <td>67</td>\n",
       "      <td>1997</td>\n",
       "      <td>1992.0</td>\n",
       "      <td>unavail</td>\n",
       "      <td>driver</td>\n",
       "      <td>0</td>\n",
       "      <td>4.0</td>\n",
       "      <td>2:79:1</td>\n",
       "    </tr>\n",
       "    <tr>\n",
       "      <th>3</th>\n",
       "      <td>3</td>\n",
       "      <td>55+</td>\n",
       "      <td>27.078</td>\n",
       "      <td>Not_Survived</td>\n",
       "      <td>none</td>\n",
       "      <td>belted</td>\n",
       "      <td>1</td>\n",
       "      <td>f</td>\n",
       "      <td>64</td>\n",
       "      <td>1997</td>\n",
       "      <td>1992.0</td>\n",
       "      <td>unavail</td>\n",
       "      <td>pass</td>\n",
       "      <td>0</td>\n",
       "      <td>4.0</td>\n",
       "      <td>2:79:1</td>\n",
       "    </tr>\n",
       "    <tr>\n",
       "      <th>4</th>\n",
       "      <td>4</td>\n",
       "      <td>55+</td>\n",
       "      <td>13.374</td>\n",
       "      <td>Not_Survived</td>\n",
       "      <td>none</td>\n",
       "      <td>none</td>\n",
       "      <td>1</td>\n",
       "      <td>m</td>\n",
       "      <td>23</td>\n",
       "      <td>1997</td>\n",
       "      <td>1986.0</td>\n",
       "      <td>unavail</td>\n",
       "      <td>driver</td>\n",
       "      <td>0</td>\n",
       "      <td>4.0</td>\n",
       "      <td>4:58:1</td>\n",
       "    </tr>\n",
       "  </tbody>\n",
       "</table>\n",
       "</div>"
      ],
      "text/plain": [
       "   Unnamed: 0  dvcat  weight      Survived  airbag seatbelt  frontal sex  \\\n",
       "0           0    55+  27.078  Not_Survived    none     none        1   m   \n",
       "1           1  25-39  89.627  Not_Survived  airbag   belted        0   f   \n",
       "2           2    55+  27.078  Not_Survived    none   belted        1   m   \n",
       "3           3    55+  27.078  Not_Survived    none   belted        1   f   \n",
       "4           4    55+  13.374  Not_Survived    none     none        1   m   \n",
       "\n",
       "   ageOFocc  yearacc  yearVeh     abcat occRole  deploy  injSeverity  caseid  \n",
       "0        32     1997   1987.0   unavail  driver       0          4.0  2:13:2  \n",
       "1        54     1997   1994.0  nodeploy  driver       0          4.0  2:17:1  \n",
       "2        67     1997   1992.0   unavail  driver       0          4.0  2:79:1  \n",
       "3        64     1997   1992.0   unavail    pass       0          4.0  2:79:1  \n",
       "4        23     1997   1986.0   unavail  driver       0          4.0  4:58:1  "
      ]
     },
     "execution_count": 2,
     "metadata": {},
     "output_type": "execute_result"
    }
   ],
   "source": [
    "car_df = pd.read_csv('car_crash.csv')\n",
    "car_df.head()"
   ]
  },
  {
   "cell_type": "code",
   "execution_count": 3,
   "metadata": {},
   "outputs": [
    {
     "name": "stdout",
     "output_type": "stream",
     "text": [
      "<class 'pandas.core.frame.DataFrame'>\n",
      "RangeIndex: 11217 entries, 0 to 11216\n",
      "Data columns (total 16 columns):\n",
      "Unnamed: 0     11217 non-null int64\n",
      "dvcat          11217 non-null object\n",
      "weight         11217 non-null float64\n",
      "Survived       11217 non-null object\n",
      "airbag         11217 non-null object\n",
      "seatbelt       11217 non-null object\n",
      "frontal        11217 non-null int64\n",
      "sex            11217 non-null object\n",
      "ageOFocc       11217 non-null int64\n",
      "yearacc        11217 non-null int64\n",
      "yearVeh        11217 non-null float64\n",
      "abcat          11217 non-null object\n",
      "occRole        11217 non-null object\n",
      "deploy         11217 non-null int64\n",
      "injSeverity    11140 non-null float64\n",
      "caseid         11217 non-null object\n",
      "dtypes: float64(3), int64(5), object(8)\n",
      "memory usage: 1.4+ MB\n"
     ]
    }
   ],
   "source": [
    "car_df.info()"
   ]
  },
  {
   "cell_type": "code",
   "execution_count": 4,
   "metadata": {},
   "outputs": [
    {
     "data": {
      "text/plain": [
       "(11217, 16)"
      ]
     },
     "execution_count": 4,
     "metadata": {},
     "output_type": "execute_result"
    }
   ],
   "source": [
    "car_df.shape"
   ]
  },
  {
   "cell_type": "code",
   "execution_count": 5,
   "metadata": {},
   "outputs": [
    {
     "data": {
      "text/plain": [
       "Unnamed: 0      0\n",
       "dvcat           0\n",
       "weight          0\n",
       "Survived        0\n",
       "airbag          0\n",
       "seatbelt        0\n",
       "frontal         0\n",
       "sex             0\n",
       "ageOFocc        0\n",
       "yearacc         0\n",
       "yearVeh         0\n",
       "abcat           0\n",
       "occRole         0\n",
       "deploy          0\n",
       "injSeverity    77\n",
       "caseid          0\n",
       "dtype: int64"
      ]
     },
     "execution_count": 5,
     "metadata": {},
     "output_type": "execute_result"
    }
   ],
   "source": [
    "car_df.isna().sum()     # To know the how many null values in our data set"
   ]
  },
  {
   "cell_type": "code",
   "execution_count": 7,
   "metadata": {},
   "outputs": [
    {
     "data": {
      "text/plain": [
       "<bound method Series.unique of 0        4.0\n",
       "1        4.0\n",
       "2        4.0\n",
       "3        4.0\n",
       "4        4.0\n",
       "5        4.0\n",
       "6        4.0\n",
       "7        4.0\n",
       "8        4.0\n",
       "9        4.0\n",
       "10       4.0\n",
       "11       4.0\n",
       "12       4.0\n",
       "13       4.0\n",
       "14       4.0\n",
       "15       4.0\n",
       "16       4.0\n",
       "17       4.0\n",
       "18       4.0\n",
       "19       3.0\n",
       "20       3.0\n",
       "21       4.0\n",
       "22       4.0\n",
       "23       4.0\n",
       "24       4.0\n",
       "25       4.0\n",
       "26       4.0\n",
       "27       4.0\n",
       "28       4.0\n",
       "29       4.0\n",
       "        ... \n",
       "11187    0.0\n",
       "11188    2.0\n",
       "11189    3.0\n",
       "11190    1.0\n",
       "11191    0.0\n",
       "11192    0.0\n",
       "11193    4.0\n",
       "11194    1.0\n",
       "11195    1.0\n",
       "11196    1.0\n",
       "11197    1.0\n",
       "11198    1.0\n",
       "11199    3.0\n",
       "11200    1.0\n",
       "11201    1.0\n",
       "11202    3.0\n",
       "11203    2.0\n",
       "11204    2.0\n",
       "11205    0.0\n",
       "11206    0.0\n",
       "11207    1.0\n",
       "11208    1.0\n",
       "11209    0.0\n",
       "11210    0.0\n",
       "11211    2.0\n",
       "11212    0.0\n",
       "11213    2.0\n",
       "11214    3.0\n",
       "11215    0.0\n",
       "11216    0.0\n",
       "Name: injSeverity, Length: 11217, dtype: float64>"
      ]
     },
     "execution_count": 7,
     "metadata": {},
     "output_type": "execute_result"
    }
   ],
   "source": [
    "car_df['injSeverity'].unique"
   ]
  },
  {
   "cell_type": "code",
   "execution_count": 9,
   "metadata": {},
   "outputs": [
    {
     "data": {
      "text/plain": [
       "3.0    3337\n",
       "0.0    2734\n",
       "1.0    2218\n",
       "2.0    1682\n",
       "4.0    1101\n",
       "5.0      68\n",
       "Name: injSeverity, dtype: int64"
      ]
     },
     "execution_count": 9,
     "metadata": {},
     "output_type": "execute_result"
    }
   ],
   "source": [
    "car_df['injSeverity'].value_counts()"
   ]
  },
  {
   "cell_type": "code",
   "execution_count": 11,
   "metadata": {},
   "outputs": [
    {
     "data": {
      "text/plain": [
       "Unnamed: 0     0.000000\n",
       "dvcat          0.000000\n",
       "weight         0.000000\n",
       "Survived       0.000000\n",
       "airbag         0.000000\n",
       "seatbelt       0.000000\n",
       "frontal        0.000000\n",
       "sex            0.000000\n",
       "ageOFocc       0.000000\n",
       "yearacc        0.000000\n",
       "yearVeh        0.000000\n",
       "abcat          0.000000\n",
       "occRole        0.000000\n",
       "deploy         0.000000\n",
       "injSeverity    0.686458\n",
       "caseid         0.000000\n",
       "dtype: float64"
      ]
     },
     "execution_count": 11,
     "metadata": {},
     "output_type": "execute_result"
    }
   ],
   "source": [
    "car_df.isna().sum()/len(car_df)*100  # in real industry we calculate null vallue in this metod"
   ]
  },
  {
   "cell_type": "code",
   "execution_count": 13,
   "metadata": {},
   "outputs": [
    {
     "data": {
      "text/html": [
       "<div>\n",
       "<style scoped>\n",
       "    .dataframe tbody tr th:only-of-type {\n",
       "        vertical-align: middle;\n",
       "    }\n",
       "\n",
       "    .dataframe tbody tr th {\n",
       "        vertical-align: top;\n",
       "    }\n",
       "\n",
       "    .dataframe thead th {\n",
       "        text-align: right;\n",
       "    }\n",
       "</style>\n",
       "<table border=\"1\" class=\"dataframe\">\n",
       "  <thead>\n",
       "    <tr style=\"text-align: right;\">\n",
       "      <th></th>\n",
       "      <th>Unnamed: 0</th>\n",
       "      <th>dvcat</th>\n",
       "      <th>weight</th>\n",
       "      <th>Survived</th>\n",
       "      <th>airbag</th>\n",
       "      <th>seatbelt</th>\n",
       "      <th>frontal</th>\n",
       "      <th>sex</th>\n",
       "      <th>ageOFocc</th>\n",
       "      <th>yearacc</th>\n",
       "      <th>yearVeh</th>\n",
       "      <th>abcat</th>\n",
       "      <th>occRole</th>\n",
       "      <th>deploy</th>\n",
       "      <th>injSeverity</th>\n",
       "      <th>caseid</th>\n",
       "    </tr>\n",
       "  </thead>\n",
       "  <tbody>\n",
       "    <tr>\n",
       "      <th>count</th>\n",
       "      <td>11217.000000</td>\n",
       "      <td>11217</td>\n",
       "      <td>11217.000000</td>\n",
       "      <td>11217</td>\n",
       "      <td>11217</td>\n",
       "      <td>11217</td>\n",
       "      <td>11217.000000</td>\n",
       "      <td>11217</td>\n",
       "      <td>11217.000000</td>\n",
       "      <td>11217.000000</td>\n",
       "      <td>11217.000000</td>\n",
       "      <td>11217</td>\n",
       "      <td>11217</td>\n",
       "      <td>11217.000000</td>\n",
       "      <td>11140.000000</td>\n",
       "      <td>11217</td>\n",
       "    </tr>\n",
       "    <tr>\n",
       "      <th>unique</th>\n",
       "      <td>NaN</td>\n",
       "      <td>5</td>\n",
       "      <td>NaN</td>\n",
       "      <td>2</td>\n",
       "      <td>2</td>\n",
       "      <td>2</td>\n",
       "      <td>NaN</td>\n",
       "      <td>2</td>\n",
       "      <td>NaN</td>\n",
       "      <td>NaN</td>\n",
       "      <td>NaN</td>\n",
       "      <td>3</td>\n",
       "      <td>2</td>\n",
       "      <td>NaN</td>\n",
       "      <td>NaN</td>\n",
       "      <td>6488</td>\n",
       "    </tr>\n",
       "    <tr>\n",
       "      <th>top</th>\n",
       "      <td>NaN</td>\n",
       "      <td>10-24</td>\n",
       "      <td>NaN</td>\n",
       "      <td>survived</td>\n",
       "      <td>airbag</td>\n",
       "      <td>belted</td>\n",
       "      <td>NaN</td>\n",
       "      <td>m</td>\n",
       "      <td>NaN</td>\n",
       "      <td>NaN</td>\n",
       "      <td>NaN</td>\n",
       "      <td>deploy</td>\n",
       "      <td>driver</td>\n",
       "      <td>NaN</td>\n",
       "      <td>NaN</td>\n",
       "      <td>73:100:2</td>\n",
       "    </tr>\n",
       "    <tr>\n",
       "      <th>freq</th>\n",
       "      <td>NaN</td>\n",
       "      <td>5414</td>\n",
       "      <td>NaN</td>\n",
       "      <td>10037</td>\n",
       "      <td>7064</td>\n",
       "      <td>7849</td>\n",
       "      <td>NaN</td>\n",
       "      <td>6048</td>\n",
       "      <td>NaN</td>\n",
       "      <td>NaN</td>\n",
       "      <td>NaN</td>\n",
       "      <td>4365</td>\n",
       "      <td>8786</td>\n",
       "      <td>NaN</td>\n",
       "      <td>NaN</td>\n",
       "      <td>7</td>\n",
       "    </tr>\n",
       "    <tr>\n",
       "      <th>mean</th>\n",
       "      <td>5608.000000</td>\n",
       "      <td>NaN</td>\n",
       "      <td>431.405309</td>\n",
       "      <td>NaN</td>\n",
       "      <td>NaN</td>\n",
       "      <td>NaN</td>\n",
       "      <td>0.644022</td>\n",
       "      <td>NaN</td>\n",
       "      <td>37.427654</td>\n",
       "      <td>2001.103236</td>\n",
       "      <td>1994.177944</td>\n",
       "      <td>NaN</td>\n",
       "      <td>NaN</td>\n",
       "      <td>0.389141</td>\n",
       "      <td>1.825583</td>\n",
       "      <td>NaN</td>\n",
       "    </tr>\n",
       "    <tr>\n",
       "      <th>std</th>\n",
       "      <td>3238.213319</td>\n",
       "      <td>NaN</td>\n",
       "      <td>1406.202941</td>\n",
       "      <td>NaN</td>\n",
       "      <td>NaN</td>\n",
       "      <td>NaN</td>\n",
       "      <td>0.478830</td>\n",
       "      <td>NaN</td>\n",
       "      <td>18.192429</td>\n",
       "      <td>1.056805</td>\n",
       "      <td>5.658704</td>\n",
       "      <td>NaN</td>\n",
       "      <td>NaN</td>\n",
       "      <td>0.487577</td>\n",
       "      <td>1.378535</td>\n",
       "      <td>NaN</td>\n",
       "    </tr>\n",
       "    <tr>\n",
       "      <th>min</th>\n",
       "      <td>0.000000</td>\n",
       "      <td>NaN</td>\n",
       "      <td>0.000000</td>\n",
       "      <td>NaN</td>\n",
       "      <td>NaN</td>\n",
       "      <td>NaN</td>\n",
       "      <td>0.000000</td>\n",
       "      <td>NaN</td>\n",
       "      <td>16.000000</td>\n",
       "      <td>1997.000000</td>\n",
       "      <td>1953.000000</td>\n",
       "      <td>NaN</td>\n",
       "      <td>NaN</td>\n",
       "      <td>0.000000</td>\n",
       "      <td>0.000000</td>\n",
       "      <td>NaN</td>\n",
       "    </tr>\n",
       "    <tr>\n",
       "      <th>25%</th>\n",
       "      <td>2804.000000</td>\n",
       "      <td>NaN</td>\n",
       "      <td>28.292000</td>\n",
       "      <td>NaN</td>\n",
       "      <td>NaN</td>\n",
       "      <td>NaN</td>\n",
       "      <td>0.000000</td>\n",
       "      <td>NaN</td>\n",
       "      <td>22.000000</td>\n",
       "      <td>2001.000000</td>\n",
       "      <td>1991.000000</td>\n",
       "      <td>NaN</td>\n",
       "      <td>NaN</td>\n",
       "      <td>0.000000</td>\n",
       "      <td>1.000000</td>\n",
       "      <td>NaN</td>\n",
       "    </tr>\n",
       "    <tr>\n",
       "      <th>50%</th>\n",
       "      <td>5608.000000</td>\n",
       "      <td>NaN</td>\n",
       "      <td>82.195000</td>\n",
       "      <td>NaN</td>\n",
       "      <td>NaN</td>\n",
       "      <td>NaN</td>\n",
       "      <td>1.000000</td>\n",
       "      <td>NaN</td>\n",
       "      <td>33.000000</td>\n",
       "      <td>2001.000000</td>\n",
       "      <td>1995.000000</td>\n",
       "      <td>NaN</td>\n",
       "      <td>NaN</td>\n",
       "      <td>0.000000</td>\n",
       "      <td>2.000000</td>\n",
       "      <td>NaN</td>\n",
       "    </tr>\n",
       "    <tr>\n",
       "      <th>75%</th>\n",
       "      <td>8412.000000</td>\n",
       "      <td>NaN</td>\n",
       "      <td>324.056000</td>\n",
       "      <td>NaN</td>\n",
       "      <td>NaN</td>\n",
       "      <td>NaN</td>\n",
       "      <td>1.000000</td>\n",
       "      <td>NaN</td>\n",
       "      <td>48.000000</td>\n",
       "      <td>2002.000000</td>\n",
       "      <td>1999.000000</td>\n",
       "      <td>NaN</td>\n",
       "      <td>NaN</td>\n",
       "      <td>1.000000</td>\n",
       "      <td>3.000000</td>\n",
       "      <td>NaN</td>\n",
       "    </tr>\n",
       "    <tr>\n",
       "      <th>max</th>\n",
       "      <td>11216.000000</td>\n",
       "      <td>NaN</td>\n",
       "      <td>31694.040000</td>\n",
       "      <td>NaN</td>\n",
       "      <td>NaN</td>\n",
       "      <td>NaN</td>\n",
       "      <td>1.000000</td>\n",
       "      <td>NaN</td>\n",
       "      <td>97.000000</td>\n",
       "      <td>2002.000000</td>\n",
       "      <td>2003.000000</td>\n",
       "      <td>NaN</td>\n",
       "      <td>NaN</td>\n",
       "      <td>1.000000</td>\n",
       "      <td>5.000000</td>\n",
       "      <td>NaN</td>\n",
       "    </tr>\n",
       "  </tbody>\n",
       "</table>\n",
       "</div>"
      ],
      "text/plain": [
       "          Unnamed: 0  dvcat        weight  Survived  airbag seatbelt  \\\n",
       "count   11217.000000  11217  11217.000000     11217   11217    11217   \n",
       "unique           NaN      5           NaN         2       2        2   \n",
       "top              NaN  10-24           NaN  survived  airbag   belted   \n",
       "freq             NaN   5414           NaN     10037    7064     7849   \n",
       "mean     5608.000000    NaN    431.405309       NaN     NaN      NaN   \n",
       "std      3238.213319    NaN   1406.202941       NaN     NaN      NaN   \n",
       "min         0.000000    NaN      0.000000       NaN     NaN      NaN   \n",
       "25%      2804.000000    NaN     28.292000       NaN     NaN      NaN   \n",
       "50%      5608.000000    NaN     82.195000       NaN     NaN      NaN   \n",
       "75%      8412.000000    NaN    324.056000       NaN     NaN      NaN   \n",
       "max     11216.000000    NaN  31694.040000       NaN     NaN      NaN   \n",
       "\n",
       "             frontal    sex      ageOFocc       yearacc       yearVeh   abcat  \\\n",
       "count   11217.000000  11217  11217.000000  11217.000000  11217.000000   11217   \n",
       "unique           NaN      2           NaN           NaN           NaN       3   \n",
       "top              NaN      m           NaN           NaN           NaN  deploy   \n",
       "freq             NaN   6048           NaN           NaN           NaN    4365   \n",
       "mean        0.644022    NaN     37.427654   2001.103236   1994.177944     NaN   \n",
       "std         0.478830    NaN     18.192429      1.056805      5.658704     NaN   \n",
       "min         0.000000    NaN     16.000000   1997.000000   1953.000000     NaN   \n",
       "25%         0.000000    NaN     22.000000   2001.000000   1991.000000     NaN   \n",
       "50%         1.000000    NaN     33.000000   2001.000000   1995.000000     NaN   \n",
       "75%         1.000000    NaN     48.000000   2002.000000   1999.000000     NaN   \n",
       "max         1.000000    NaN     97.000000   2002.000000   2003.000000     NaN   \n",
       "\n",
       "       occRole        deploy   injSeverity    caseid  \n",
       "count    11217  11217.000000  11140.000000     11217  \n",
       "unique       2           NaN           NaN      6488  \n",
       "top     driver           NaN           NaN  73:100:2  \n",
       "freq      8786           NaN           NaN         7  \n",
       "mean       NaN      0.389141      1.825583       NaN  \n",
       "std        NaN      0.487577      1.378535       NaN  \n",
       "min        NaN      0.000000      0.000000       NaN  \n",
       "25%        NaN      0.000000      1.000000       NaN  \n",
       "50%        NaN      0.000000      2.000000       NaN  \n",
       "75%        NaN      1.000000      3.000000       NaN  \n",
       "max        NaN      1.000000      5.000000       NaN  "
      ]
     },
     "execution_count": 13,
     "metadata": {},
     "output_type": "execute_result"
    }
   ],
   "source": [
    "car_df.describe(include='all')"
   ]
  },
  {
   "cell_type": "code",
   "execution_count": 14,
   "metadata": {},
   "outputs": [],
   "source": [
    "car_df['injSeverity'].fillna(car_df['injSeverity'].mode()[0], inplace= True)"
   ]
  },
  {
   "cell_type": "code",
   "execution_count": 15,
   "metadata": {},
   "outputs": [
    {
     "name": "stdout",
     "output_type": "stream",
     "text": [
      "<class 'pandas.core.frame.DataFrame'>\n",
      "RangeIndex: 11217 entries, 0 to 11216\n",
      "Data columns (total 16 columns):\n",
      "Unnamed: 0     11217 non-null int64\n",
      "dvcat          11217 non-null object\n",
      "weight         11217 non-null float64\n",
      "Survived       11217 non-null object\n",
      "airbag         11217 non-null object\n",
      "seatbelt       11217 non-null object\n",
      "frontal        11217 non-null int64\n",
      "sex            11217 non-null object\n",
      "ageOFocc       11217 non-null int64\n",
      "yearacc        11217 non-null int64\n",
      "yearVeh        11217 non-null float64\n",
      "abcat          11217 non-null object\n",
      "occRole        11217 non-null object\n",
      "deploy         11217 non-null int64\n",
      "injSeverity    11217 non-null float64\n",
      "caseid         11217 non-null object\n",
      "dtypes: float64(3), int64(5), object(8)\n",
      "memory usage: 1.4+ MB\n"
     ]
    }
   ],
   "source": [
    "car_df.info()"
   ]
  },
  {
   "cell_type": "code",
   "execution_count": 16,
   "metadata": {},
   "outputs": [
    {
     "data": {
      "text/plain": [
       "array(['55+', '25-39', '10-24', '40-54', '1-9km/h'], dtype=object)"
      ]
     },
     "execution_count": 16,
     "metadata": {},
     "output_type": "execute_result"
    }
   ],
   "source": [
    "car_df['dvcat'].unique()"
   ]
  },
  {
   "cell_type": "code",
   "execution_count": 17,
   "metadata": {},
   "outputs": [
    {
     "data": {
      "text/plain": [
       "array(['Not_Survived', 'survived'], dtype=object)"
      ]
     },
     "execution_count": 17,
     "metadata": {},
     "output_type": "execute_result"
    }
   ],
   "source": [
    "car_df['Survived'].unique()"
   ]
  },
  {
   "cell_type": "code",
   "execution_count": 20,
   "metadata": {},
   "outputs": [],
   "source": [
    "car_df['Survived'].replace({'survived': 1,'Not_Survived': 0}, inplace = True)"
   ]
  },
  {
   "cell_type": "code",
   "execution_count": 23,
   "metadata": {},
   "outputs": [
    {
     "data": {
      "text/plain": [
       "array(['none', 'airbag'], dtype=object)"
      ]
     },
     "execution_count": 23,
     "metadata": {},
     "output_type": "execute_result"
    }
   ],
   "source": [
    "car_df['airbag'].unique()"
   ]
  },
  {
   "cell_type": "code",
   "execution_count": 24,
   "metadata": {},
   "outputs": [],
   "source": [
    "car_df['airbag'].replace({'none': 1, 'airbag': 0}, inplace= True)"
   ]
  },
  {
   "cell_type": "code",
   "execution_count": 26,
   "metadata": {},
   "outputs": [
    {
     "data": {
      "text/plain": [
       "array(['none', 'belted'], dtype=object)"
      ]
     },
     "execution_count": 26,
     "metadata": {},
     "output_type": "execute_result"
    }
   ],
   "source": [
    "car_df['seatbelt'].unique()"
   ]
  },
  {
   "cell_type": "code",
   "execution_count": 27,
   "metadata": {},
   "outputs": [],
   "source": [
    "car_df['seatbelt'].replace({'none': 1, 'belted': 0}, inplace= True)"
   ]
  },
  {
   "cell_type": "code",
   "execution_count": 28,
   "metadata": {},
   "outputs": [
    {
     "data": {
      "text/plain": [
       "array(['m', 'f'], dtype=object)"
      ]
     },
     "execution_count": 28,
     "metadata": {},
     "output_type": "execute_result"
    }
   ],
   "source": [
    "car_df['sex'].unique()"
   ]
  },
  {
   "cell_type": "code",
   "execution_count": 29,
   "metadata": {},
   "outputs": [],
   "source": [
    "car_df['sex'].replace({'m': 1, 'f': 0}, inplace= True)"
   ]
  },
  {
   "cell_type": "code",
   "execution_count": 30,
   "metadata": {},
   "outputs": [
    {
     "data": {
      "text/plain": [
       "array(['unavail', 'nodeploy', 'deploy'], dtype=object)"
      ]
     },
     "execution_count": 30,
     "metadata": {},
     "output_type": "execute_result"
    }
   ],
   "source": [
    "car_df['abcat'].unique()"
   ]
  },
  {
   "cell_type": "code",
   "execution_count": 31,
   "metadata": {},
   "outputs": [
    {
     "data": {
      "text/plain": [
       "array(['driver', 'pass'], dtype=object)"
      ]
     },
     "execution_count": 31,
     "metadata": {},
     "output_type": "execute_result"
    }
   ],
   "source": [
    "car_df['occRole'].unique()"
   ]
  },
  {
   "cell_type": "code",
   "execution_count": 32,
   "metadata": {},
   "outputs": [],
   "source": [
    "car_df['occRole'].replace({'driver': 1, 'pass': 0}, inplace= True)"
   ]
  },
  {
   "cell_type": "code",
   "execution_count": 34,
   "metadata": {},
   "outputs": [
    {
     "name": "stdout",
     "output_type": "stream",
     "text": [
      "<class 'pandas.core.frame.DataFrame'>\n",
      "RangeIndex: 11217 entries, 0 to 11216\n",
      "Data columns (total 16 columns):\n",
      "Unnamed: 0     11217 non-null int64\n",
      "dvcat          11217 non-null object\n",
      "weight         11217 non-null float64\n",
      "Survived       11217 non-null int64\n",
      "airbag         11217 non-null int64\n",
      "seatbelt       11217 non-null int64\n",
      "frontal        11217 non-null int64\n",
      "sex            11217 non-null int64\n",
      "ageOFocc       11217 non-null int64\n",
      "yearacc        11217 non-null int64\n",
      "yearVeh        11217 non-null float64\n",
      "abcat          11217 non-null object\n",
      "occRole        11217 non-null int64\n",
      "deploy         11217 non-null int64\n",
      "injSeverity    11217 non-null float64\n",
      "caseid         11217 non-null object\n",
      "dtypes: float64(3), int64(10), object(3)\n",
      "memory usage: 1.4+ MB\n"
     ]
    }
   ],
   "source": [
    "car_df.info()"
   ]
  },
  {
   "cell_type": "markdown",
   "metadata": {},
   "source": [
    "# Label Encoding"
   ]
  },
  {
   "cell_type": "code",
   "execution_count": 36,
   "metadata": {},
   "outputs": [],
   "source": [
    "from sklearn.preprocessing import LabelEncoder"
   ]
  },
  {
   "cell_type": "code",
   "execution_count": 37,
   "metadata": {},
   "outputs": [],
   "source": [
    "le = LabelEncoder()"
   ]
  },
  {
   "cell_type": "code",
   "execution_count": 38,
   "metadata": {},
   "outputs": [],
   "source": [
    "car_df['dvcat']=le.fit_transform(car_df['dvcat'])"
   ]
  },
  {
   "cell_type": "code",
   "execution_count": 39,
   "metadata": {},
   "outputs": [],
   "source": [
    "car_df['abcat']=le.fit_transform(car_df['abcat'])"
   ]
  },
  {
   "cell_type": "code",
   "execution_count": 40,
   "metadata": {},
   "outputs": [
    {
     "name": "stdout",
     "output_type": "stream",
     "text": [
      "<class 'pandas.core.frame.DataFrame'>\n",
      "RangeIndex: 11217 entries, 0 to 11216\n",
      "Data columns (total 16 columns):\n",
      "Unnamed: 0     11217 non-null int64\n",
      "dvcat          11217 non-null int32\n",
      "weight         11217 non-null float64\n",
      "Survived       11217 non-null int64\n",
      "airbag         11217 non-null int64\n",
      "seatbelt       11217 non-null int64\n",
      "frontal        11217 non-null int64\n",
      "sex            11217 non-null int64\n",
      "ageOFocc       11217 non-null int64\n",
      "yearacc        11217 non-null int64\n",
      "yearVeh        11217 non-null float64\n",
      "abcat          11217 non-null int32\n",
      "occRole        11217 non-null int64\n",
      "deploy         11217 non-null int64\n",
      "injSeverity    11217 non-null float64\n",
      "caseid         11217 non-null object\n",
      "dtypes: float64(3), int32(2), int64(10), object(1)\n",
      "memory usage: 1.3+ MB\n"
     ]
    }
   ],
   "source": [
    "car_df.info()"
   ]
  },
  {
   "cell_type": "code",
   "execution_count": 50,
   "metadata": {},
   "outputs": [],
   "source": [
    "car_df.drop(['caseid'],axis = 1,inplace= True)"
   ]
  },
  {
   "cell_type": "code",
   "execution_count": 51,
   "metadata": {},
   "outputs": [
    {
     "name": "stdout",
     "output_type": "stream",
     "text": [
      "<class 'pandas.core.frame.DataFrame'>\n",
      "RangeIndex: 11217 entries, 0 to 11216\n",
      "Data columns (total 15 columns):\n",
      "Unnamed: 0     11217 non-null int64\n",
      "dvcat          11217 non-null int32\n",
      "weight         11217 non-null float64\n",
      "Survived       11217 non-null int64\n",
      "airbag         11217 non-null int64\n",
      "seatbelt       11217 non-null int64\n",
      "frontal        11217 non-null int64\n",
      "sex            11217 non-null int64\n",
      "ageOFocc       11217 non-null int64\n",
      "yearacc        11217 non-null int64\n",
      "yearVeh        11217 non-null float64\n",
      "abcat          11217 non-null int32\n",
      "occRole        11217 non-null int64\n",
      "deploy         11217 non-null int64\n",
      "injSeverity    11217 non-null float64\n",
      "dtypes: float64(3), int32(2), int64(10)\n",
      "memory usage: 1.2 MB\n"
     ]
    }
   ],
   "source": [
    "car_df.info()"
   ]
  },
  {
   "cell_type": "code",
   "execution_count": 52,
   "metadata": {},
   "outputs": [
    {
     "data": {
      "text/html": [
       "<div>\n",
       "<style scoped>\n",
       "    .dataframe tbody tr th:only-of-type {\n",
       "        vertical-align: middle;\n",
       "    }\n",
       "\n",
       "    .dataframe tbody tr th {\n",
       "        vertical-align: top;\n",
       "    }\n",
       "\n",
       "    .dataframe thead th {\n",
       "        text-align: right;\n",
       "    }\n",
       "</style>\n",
       "<table border=\"1\" class=\"dataframe\">\n",
       "  <thead>\n",
       "    <tr style=\"text-align: right;\">\n",
       "      <th></th>\n",
       "      <th>Unnamed: 0</th>\n",
       "      <th>dvcat</th>\n",
       "      <th>weight</th>\n",
       "      <th>Survived</th>\n",
       "      <th>airbag</th>\n",
       "      <th>seatbelt</th>\n",
       "      <th>frontal</th>\n",
       "      <th>sex</th>\n",
       "      <th>ageOFocc</th>\n",
       "      <th>yearacc</th>\n",
       "      <th>yearVeh</th>\n",
       "      <th>abcat</th>\n",
       "      <th>occRole</th>\n",
       "      <th>deploy</th>\n",
       "      <th>injSeverity</th>\n",
       "    </tr>\n",
       "  </thead>\n",
       "  <tbody>\n",
       "    <tr>\n",
       "      <th>Unnamed: 0</th>\n",
       "      <td>1.000000</td>\n",
       "      <td>-0.131854</td>\n",
       "      <td>0.032443</td>\n",
       "      <td>0.332908</td>\n",
       "      <td>-0.125035</td>\n",
       "      <td>-0.098996</td>\n",
       "      <td>0.048826</td>\n",
       "      <td>-0.014170</td>\n",
       "      <td>-0.050093</td>\n",
       "      <td>0.848152</td>\n",
       "      <td>0.181146</td>\n",
       "      <td>-0.105042</td>\n",
       "      <td>0.008381</td>\n",
       "      <td>0.063868</td>\n",
       "      <td>-0.170589</td>\n",
       "    </tr>\n",
       "    <tr>\n",
       "      <th>dvcat</th>\n",
       "      <td>-0.131854</td>\n",
       "      <td>1.000000</td>\n",
       "      <td>-0.145590</td>\n",
       "      <td>-0.415593</td>\n",
       "      <td>0.160533</td>\n",
       "      <td>0.205410</td>\n",
       "      <td>0.051341</td>\n",
       "      <td>0.075768</td>\n",
       "      <td>-0.033358</td>\n",
       "      <td>-0.233494</td>\n",
       "      <td>-0.166158</td>\n",
       "      <td>0.057847</td>\n",
       "      <td>0.015879</td>\n",
       "      <td>0.055622</td>\n",
       "      <td>0.469143</td>\n",
       "    </tr>\n",
       "    <tr>\n",
       "      <th>weight</th>\n",
       "      <td>0.032443</td>\n",
       "      <td>-0.145590</td>\n",
       "      <td>1.000000</td>\n",
       "      <td>0.091640</td>\n",
       "      <td>0.003574</td>\n",
       "      <td>-0.078739</td>\n",
       "      <td>0.000659</td>\n",
       "      <td>-0.006471</td>\n",
       "      <td>-0.040111</td>\n",
       "      <td>0.056892</td>\n",
       "      <td>-0.015226</td>\n",
       "      <td>0.038795</td>\n",
       "      <td>0.000219</td>\n",
       "      <td>-0.065783</td>\n",
       "      <td>-0.220659</td>\n",
       "    </tr>\n",
       "    <tr>\n",
       "      <th>Survived</th>\n",
       "      <td>0.332908</td>\n",
       "      <td>-0.415593</td>\n",
       "      <td>0.091640</td>\n",
       "      <td>1.000000</td>\n",
       "      <td>-0.139679</td>\n",
       "      <td>-0.206467</td>\n",
       "      <td>0.107990</td>\n",
       "      <td>-0.046499</td>\n",
       "      <td>-0.135473</td>\n",
       "      <td>0.549885</td>\n",
       "      <td>0.165096</td>\n",
       "      <td>-0.107829</td>\n",
       "      <td>0.023460</td>\n",
       "      <td>0.054346</td>\n",
       "      <td>-0.517637</td>\n",
       "    </tr>\n",
       "    <tr>\n",
       "      <th>airbag</th>\n",
       "      <td>-0.125035</td>\n",
       "      <td>0.160533</td>\n",
       "      <td>0.003574</td>\n",
       "      <td>-0.139679</td>\n",
       "      <td>1.000000</td>\n",
       "      <td>0.157501</td>\n",
       "      <td>0.050272</td>\n",
       "      <td>0.092886</td>\n",
       "      <td>-0.025109</td>\n",
       "      <td>-0.181478</td>\n",
       "      <td>-0.766181</td>\n",
       "      <td>0.896724</td>\n",
       "      <td>-0.086011</td>\n",
       "      <td>-0.611983</td>\n",
       "      <td>0.124394</td>\n",
       "    </tr>\n",
       "    <tr>\n",
       "      <th>seatbelt</th>\n",
       "      <td>-0.098996</td>\n",
       "      <td>0.205410</td>\n",
       "      <td>-0.078739</td>\n",
       "      <td>-0.206467</td>\n",
       "      <td>0.157501</td>\n",
       "      <td>1.000000</td>\n",
       "      <td>0.066590</td>\n",
       "      <td>0.117071</td>\n",
       "      <td>-0.066066</td>\n",
       "      <td>-0.149208</td>\n",
       "      <td>-0.180534</td>\n",
       "      <td>0.111991</td>\n",
       "      <td>-0.047712</td>\n",
       "      <td>-0.044132</td>\n",
       "      <td>0.283063</td>\n",
       "    </tr>\n",
       "    <tr>\n",
       "      <th>frontal</th>\n",
       "      <td>0.048826</td>\n",
       "      <td>0.051341</td>\n",
       "      <td>0.000659</td>\n",
       "      <td>0.107990</td>\n",
       "      <td>0.050272</td>\n",
       "      <td>0.066590</td>\n",
       "      <td>1.000000</td>\n",
       "      <td>0.055639</td>\n",
       "      <td>-0.048856</td>\n",
       "      <td>0.059768</td>\n",
       "      <td>-0.024267</td>\n",
       "      <td>-0.117856</td>\n",
       "      <td>0.033721</td>\n",
       "      <td>0.260388</td>\n",
       "      <td>-0.053709</td>\n",
       "    </tr>\n",
       "    <tr>\n",
       "      <th>sex</th>\n",
       "      <td>-0.014170</td>\n",
       "      <td>0.075768</td>\n",
       "      <td>-0.006471</td>\n",
       "      <td>-0.046499</td>\n",
       "      <td>0.092886</td>\n",
       "      <td>0.117071</td>\n",
       "      <td>0.055639</td>\n",
       "      <td>1.000000</td>\n",
       "      <td>-0.063575</td>\n",
       "      <td>-0.025957</td>\n",
       "      <td>-0.097390</td>\n",
       "      <td>0.071708</td>\n",
       "      <td>0.116228</td>\n",
       "      <td>-0.036143</td>\n",
       "      <td>-0.021284</td>\n",
       "    </tr>\n",
       "    <tr>\n",
       "      <th>ageOFocc</th>\n",
       "      <td>-0.050093</td>\n",
       "      <td>-0.033358</td>\n",
       "      <td>-0.040111</td>\n",
       "      <td>-0.135473</td>\n",
       "      <td>-0.025109</td>\n",
       "      <td>-0.066066</td>\n",
       "      <td>-0.048856</td>\n",
       "      <td>-0.063575</td>\n",
       "      <td>1.000000</td>\n",
       "      <td>-0.072271</td>\n",
       "      <td>-0.002070</td>\n",
       "      <td>-0.008569</td>\n",
       "      <td>0.052485</td>\n",
       "      <td>-0.009556</td>\n",
       "      <td>0.123495</td>\n",
       "    </tr>\n",
       "    <tr>\n",
       "      <th>yearacc</th>\n",
       "      <td>0.848152</td>\n",
       "      <td>-0.233494</td>\n",
       "      <td>0.056892</td>\n",
       "      <td>0.549885</td>\n",
       "      <td>-0.181478</td>\n",
       "      <td>-0.149208</td>\n",
       "      <td>0.059768</td>\n",
       "      <td>-0.025957</td>\n",
       "      <td>-0.072271</td>\n",
       "      <td>1.000000</td>\n",
       "      <td>0.247743</td>\n",
       "      <td>-0.151650</td>\n",
       "      <td>0.018217</td>\n",
       "      <td>0.091252</td>\n",
       "      <td>-0.300495</td>\n",
       "    </tr>\n",
       "    <tr>\n",
       "      <th>yearVeh</th>\n",
       "      <td>0.181146</td>\n",
       "      <td>-0.166158</td>\n",
       "      <td>-0.015226</td>\n",
       "      <td>0.165096</td>\n",
       "      <td>-0.766181</td>\n",
       "      <td>-0.180534</td>\n",
       "      <td>-0.024267</td>\n",
       "      <td>-0.097390</td>\n",
       "      <td>-0.002070</td>\n",
       "      <td>0.247743</td>\n",
       "      <td>1.000000</td>\n",
       "      <td>-0.677852</td>\n",
       "      <td>0.018416</td>\n",
       "      <td>0.452448</td>\n",
       "      <td>-0.138475</td>\n",
       "    </tr>\n",
       "    <tr>\n",
       "      <th>abcat</th>\n",
       "      <td>-0.105042</td>\n",
       "      <td>0.057847</td>\n",
       "      <td>0.038795</td>\n",
       "      <td>-0.107829</td>\n",
       "      <td>0.896724</td>\n",
       "      <td>0.111991</td>\n",
       "      <td>-0.117856</td>\n",
       "      <td>0.071708</td>\n",
       "      <td>-0.008569</td>\n",
       "      <td>-0.151650</td>\n",
       "      <td>-0.677852</td>\n",
       "      <td>1.000000</td>\n",
       "      <td>-0.094860</td>\n",
       "      <td>-0.898811</td>\n",
       "      <td>0.048724</td>\n",
       "    </tr>\n",
       "    <tr>\n",
       "      <th>occRole</th>\n",
       "      <td>0.008381</td>\n",
       "      <td>0.015879</td>\n",
       "      <td>0.000219</td>\n",
       "      <td>0.023460</td>\n",
       "      <td>-0.086011</td>\n",
       "      <td>-0.047712</td>\n",
       "      <td>0.033721</td>\n",
       "      <td>0.116228</td>\n",
       "      <td>0.052485</td>\n",
       "      <td>0.018217</td>\n",
       "      <td>0.018416</td>\n",
       "      <td>-0.094860</td>\n",
       "      <td>1.000000</td>\n",
       "      <td>0.084323</td>\n",
       "      <td>-0.018918</td>\n",
       "    </tr>\n",
       "    <tr>\n",
       "      <th>deploy</th>\n",
       "      <td>0.063868</td>\n",
       "      <td>0.055622</td>\n",
       "      <td>-0.065783</td>\n",
       "      <td>0.054346</td>\n",
       "      <td>-0.611983</td>\n",
       "      <td>-0.044132</td>\n",
       "      <td>0.260388</td>\n",
       "      <td>-0.036143</td>\n",
       "      <td>-0.009556</td>\n",
       "      <td>0.091252</td>\n",
       "      <td>0.452448</td>\n",
       "      <td>-0.898811</td>\n",
       "      <td>0.084323</td>\n",
       "      <td>1.000000</td>\n",
       "      <td>0.036133</td>\n",
       "    </tr>\n",
       "    <tr>\n",
       "      <th>injSeverity</th>\n",
       "      <td>-0.170589</td>\n",
       "      <td>0.469143</td>\n",
       "      <td>-0.220659</td>\n",
       "      <td>-0.517637</td>\n",
       "      <td>0.124394</td>\n",
       "      <td>0.283063</td>\n",
       "      <td>-0.053709</td>\n",
       "      <td>-0.021284</td>\n",
       "      <td>0.123495</td>\n",
       "      <td>-0.300495</td>\n",
       "      <td>-0.138475</td>\n",
       "      <td>0.048724</td>\n",
       "      <td>-0.018918</td>\n",
       "      <td>0.036133</td>\n",
       "      <td>1.000000</td>\n",
       "    </tr>\n",
       "  </tbody>\n",
       "</table>\n",
       "</div>"
      ],
      "text/plain": [
       "             Unnamed: 0     dvcat    weight  Survived    airbag  seatbelt  \\\n",
       "Unnamed: 0     1.000000 -0.131854  0.032443  0.332908 -0.125035 -0.098996   \n",
       "dvcat         -0.131854  1.000000 -0.145590 -0.415593  0.160533  0.205410   \n",
       "weight         0.032443 -0.145590  1.000000  0.091640  0.003574 -0.078739   \n",
       "Survived       0.332908 -0.415593  0.091640  1.000000 -0.139679 -0.206467   \n",
       "airbag        -0.125035  0.160533  0.003574 -0.139679  1.000000  0.157501   \n",
       "seatbelt      -0.098996  0.205410 -0.078739 -0.206467  0.157501  1.000000   \n",
       "frontal        0.048826  0.051341  0.000659  0.107990  0.050272  0.066590   \n",
       "sex           -0.014170  0.075768 -0.006471 -0.046499  0.092886  0.117071   \n",
       "ageOFocc      -0.050093 -0.033358 -0.040111 -0.135473 -0.025109 -0.066066   \n",
       "yearacc        0.848152 -0.233494  0.056892  0.549885 -0.181478 -0.149208   \n",
       "yearVeh        0.181146 -0.166158 -0.015226  0.165096 -0.766181 -0.180534   \n",
       "abcat         -0.105042  0.057847  0.038795 -0.107829  0.896724  0.111991   \n",
       "occRole        0.008381  0.015879  0.000219  0.023460 -0.086011 -0.047712   \n",
       "deploy         0.063868  0.055622 -0.065783  0.054346 -0.611983 -0.044132   \n",
       "injSeverity   -0.170589  0.469143 -0.220659 -0.517637  0.124394  0.283063   \n",
       "\n",
       "              frontal       sex  ageOFocc   yearacc   yearVeh     abcat  \\\n",
       "Unnamed: 0   0.048826 -0.014170 -0.050093  0.848152  0.181146 -0.105042   \n",
       "dvcat        0.051341  0.075768 -0.033358 -0.233494 -0.166158  0.057847   \n",
       "weight       0.000659 -0.006471 -0.040111  0.056892 -0.015226  0.038795   \n",
       "Survived     0.107990 -0.046499 -0.135473  0.549885  0.165096 -0.107829   \n",
       "airbag       0.050272  0.092886 -0.025109 -0.181478 -0.766181  0.896724   \n",
       "seatbelt     0.066590  0.117071 -0.066066 -0.149208 -0.180534  0.111991   \n",
       "frontal      1.000000  0.055639 -0.048856  0.059768 -0.024267 -0.117856   \n",
       "sex          0.055639  1.000000 -0.063575 -0.025957 -0.097390  0.071708   \n",
       "ageOFocc    -0.048856 -0.063575  1.000000 -0.072271 -0.002070 -0.008569   \n",
       "yearacc      0.059768 -0.025957 -0.072271  1.000000  0.247743 -0.151650   \n",
       "yearVeh     -0.024267 -0.097390 -0.002070  0.247743  1.000000 -0.677852   \n",
       "abcat       -0.117856  0.071708 -0.008569 -0.151650 -0.677852  1.000000   \n",
       "occRole      0.033721  0.116228  0.052485  0.018217  0.018416 -0.094860   \n",
       "deploy       0.260388 -0.036143 -0.009556  0.091252  0.452448 -0.898811   \n",
       "injSeverity -0.053709 -0.021284  0.123495 -0.300495 -0.138475  0.048724   \n",
       "\n",
       "              occRole    deploy  injSeverity  \n",
       "Unnamed: 0   0.008381  0.063868    -0.170589  \n",
       "dvcat        0.015879  0.055622     0.469143  \n",
       "weight       0.000219 -0.065783    -0.220659  \n",
       "Survived     0.023460  0.054346    -0.517637  \n",
       "airbag      -0.086011 -0.611983     0.124394  \n",
       "seatbelt    -0.047712 -0.044132     0.283063  \n",
       "frontal      0.033721  0.260388    -0.053709  \n",
       "sex          0.116228 -0.036143    -0.021284  \n",
       "ageOFocc     0.052485 -0.009556     0.123495  \n",
       "yearacc      0.018217  0.091252    -0.300495  \n",
       "yearVeh      0.018416  0.452448    -0.138475  \n",
       "abcat       -0.094860 -0.898811     0.048724  \n",
       "occRole      1.000000  0.084323    -0.018918  \n",
       "deploy       0.084323  1.000000     0.036133  \n",
       "injSeverity -0.018918  0.036133     1.000000  "
      ]
     },
     "execution_count": 52,
     "metadata": {},
     "output_type": "execute_result"
    }
   ],
   "source": [
    "car_df.corr()"
   ]
  },
  {
   "cell_type": "code",
   "execution_count": 53,
   "metadata": {},
   "outputs": [],
   "source": [
    "import seaborn as sns\n",
    "import matplotlib.pyplot as plt"
   ]
  },
  {
   "cell_type": "code",
   "execution_count": 59,
   "metadata": {},
   "outputs": [
    {
     "data": {
      "text/plain": [
       "<matplotlib.axes._subplots.AxesSubplot at 0x831e9a4fd0>"
      ]
     },
     "execution_count": 59,
     "metadata": {},
     "output_type": "execute_result"
    },
    {
     "data": {
      "image/png": "[encoded data removed]",
      "text/plain": [
       "<Figure size 1440x720 with 2 Axes>"
      ]
     },
     "metadata": {
      "needs_background": "light"
     },
     "output_type": "display_data"
    }
   ],
   "source": [
    "plt.figure(figsize=(20,10))\n",
    "sns.heatmap(car_df.corr(),annot = True)"
   ]
  },
  {
   "cell_type": "raw",
   "metadata": {},
   "source": [
    "car_df.drop(['sex','frontal','occRole','weight'], axis = 1,inplace = True)"
   ]
  },
  {
   "cell_type": "code",
   "execution_count": 67,
   "metadata": {},
   "outputs": [
    {
     "name": "stdout",
     "output_type": "stream",
     "text": [
      "<class 'pandas.core.frame.DataFrame'>\n",
      "RangeIndex: 11217 entries, 0 to 11216\n",
      "Data columns (total 10 columns):\n",
      "dvcat          11217 non-null int32\n",
      "Survived       11217 non-null int64\n",
      "airbag         11217 non-null int64\n",
      "seatbelt       11217 non-null int64\n",
      "ageOFocc       11217 non-null int64\n",
      "yearacc        11217 non-null int64\n",
      "yearVeh        11217 non-null float64\n",
      "abcat          11217 non-null int32\n",
      "deploy         11217 non-null int64\n",
      "injSeverity    11217 non-null float64\n",
      "dtypes: float64(2), int32(2), int64(6)\n",
      "memory usage: 788.8 KB\n"
     ]
    }
   ],
   "source": [
    "car_df.info()"
   ]
  },
  {
   "cell_type": "code",
   "execution_count": 68,
   "metadata": {},
   "outputs": [
    {
     "data": {
      "text/plain": [
       "Index(['dvcat', 'Survived', 'airbag', 'seatbelt', 'ageOFocc', 'yearacc',\n",
       "       'yearVeh', 'abcat', 'deploy', 'injSeverity'],\n",
       "      dtype='object')"
      ]
     },
     "execution_count": 68,
     "metadata": {},
     "output_type": "execute_result"
    }
   ],
   "source": [
    "car_df.columns"
   ]
  },
  {
   "cell_type": "code",
   "execution_count": 69,
   "metadata": {},
   "outputs": [
    {
     "data": {
      "text/html": [
       "<div>\n",
       "<style scoped>\n",
       "    .dataframe tbody tr th:only-of-type {\n",
       "        vertical-align: middle;\n",
       "    }\n",
       "\n",
       "    .dataframe tbody tr th {\n",
       "        vertical-align: top;\n",
       "    }\n",
       "\n",
       "    .dataframe thead th {\n",
       "        text-align: right;\n",
       "    }\n",
       "</style>\n",
       "<table border=\"1\" class=\"dataframe\">\n",
       "  <thead>\n",
       "    <tr style=\"text-align: right;\">\n",
       "      <th></th>\n",
       "      <th>dvcat</th>\n",
       "      <th>Survived</th>\n",
       "      <th>airbag</th>\n",
       "      <th>seatbelt</th>\n",
       "      <th>ageOFocc</th>\n",
       "      <th>yearacc</th>\n",
       "      <th>yearVeh</th>\n",
       "      <th>abcat</th>\n",
       "      <th>deploy</th>\n",
       "      <th>injSeverity</th>\n",
       "    </tr>\n",
       "  </thead>\n",
       "  <tbody>\n",
       "    <tr>\n",
       "      <th>0</th>\n",
       "      <td>4</td>\n",
       "      <td>0</td>\n",
       "      <td>1</td>\n",
       "      <td>1</td>\n",
       "      <td>32</td>\n",
       "      <td>1997</td>\n",
       "      <td>1987.0</td>\n",
       "      <td>2</td>\n",
       "      <td>0</td>\n",
       "      <td>4.0</td>\n",
       "    </tr>\n",
       "    <tr>\n",
       "      <th>1</th>\n",
       "      <td>2</td>\n",
       "      <td>0</td>\n",
       "      <td>0</td>\n",
       "      <td>0</td>\n",
       "      <td>54</td>\n",
       "      <td>1997</td>\n",
       "      <td>1994.0</td>\n",
       "      <td>1</td>\n",
       "      <td>0</td>\n",
       "      <td>4.0</td>\n",
       "    </tr>\n",
       "    <tr>\n",
       "      <th>2</th>\n",
       "      <td>4</td>\n",
       "      <td>0</td>\n",
       "      <td>1</td>\n",
       "      <td>0</td>\n",
       "      <td>67</td>\n",
       "      <td>1997</td>\n",
       "      <td>1992.0</td>\n",
       "      <td>2</td>\n",
       "      <td>0</td>\n",
       "      <td>4.0</td>\n",
       "    </tr>\n",
       "    <tr>\n",
       "      <th>3</th>\n",
       "      <td>4</td>\n",
       "      <td>0</td>\n",
       "      <td>1</td>\n",
       "      <td>0</td>\n",
       "      <td>64</td>\n",
       "      <td>1997</td>\n",
       "      <td>1992.0</td>\n",
       "      <td>2</td>\n",
       "      <td>0</td>\n",
       "      <td>4.0</td>\n",
       "    </tr>\n",
       "    <tr>\n",
       "      <th>4</th>\n",
       "      <td>4</td>\n",
       "      <td>0</td>\n",
       "      <td>1</td>\n",
       "      <td>1</td>\n",
       "      <td>23</td>\n",
       "      <td>1997</td>\n",
       "      <td>1986.0</td>\n",
       "      <td>2</td>\n",
       "      <td>0</td>\n",
       "      <td>4.0</td>\n",
       "    </tr>\n",
       "  </tbody>\n",
       "</table>\n",
       "</div>"
      ],
      "text/plain": [
       "   dvcat  Survived  airbag  seatbelt  ageOFocc  yearacc  yearVeh  abcat  \\\n",
       "0      4         0       1         1        32     1997   1987.0      2   \n",
       "1      2         0       0         0        54     1997   1994.0      1   \n",
       "2      4         0       1         0        67     1997   1992.0      2   \n",
       "3      4         0       1         0        64     1997   1992.0      2   \n",
       "4      4         0       1         1        23     1997   1986.0      2   \n",
       "\n",
       "   deploy  injSeverity  \n",
       "0       0          4.0  \n",
       "1       0          4.0  \n",
       "2       0          4.0  \n",
       "3       0          4.0  \n",
       "4       0          4.0  "
      ]
     },
     "execution_count": 69,
     "metadata": {},
     "output_type": "execute_result"
    }
   ],
   "source": [
    "car_df.head()"
   ]
  },
  {
   "cell_type": "code",
   "execution_count": 70,
   "metadata": {},
   "outputs": [],
   "source": [
    "X = car_df.drop(columns = ['Survived'])\n",
    "y = car_df['Survived']"
   ]
  },
  {
   "cell_type": "code",
   "execution_count": 71,
   "metadata": {},
   "outputs": [
    {
     "data": {
      "text/plain": [
       "(11217, 9)"
      ]
     },
     "execution_count": 71,
     "metadata": {},
     "output_type": "execute_result"
    }
   ],
   "source": [
    "X.shape"
   ]
  },
  {
   "cell_type": "code",
   "execution_count": 72,
   "metadata": {},
   "outputs": [
    {
     "data": {
      "text/plain": [
       "(11217,)"
      ]
     },
     "execution_count": 72,
     "metadata": {},
     "output_type": "execute_result"
    }
   ],
   "source": [
    "y.shape"
   ]
  },
  {
   "cell_type": "markdown",
   "metadata": {},
   "source": [
    "# Train,Test,Split"
   ]
  },
  {
   "cell_type": "code",
   "execution_count": 75,
   "metadata": {},
   "outputs": [],
   "source": [
    "from sklearn.model_selection import train_test_split"
   ]
  },
  {
   "cell_type": "code",
   "execution_count": 76,
   "metadata": {},
   "outputs": [],
   "source": [
    "X_train,X_test,y_train,y_test = train_test_split(X,y,test_size = 0.2, random_state = 1, stratify=y)"
   ]
  },
  {
   "cell_type": "markdown",
   "metadata": {},
   "source": [
    "# Logistic Regression"
   ]
  },
  {
   "cell_type": "code",
   "execution_count": 77,
   "metadata": {},
   "outputs": [],
   "source": [
    "from sklearn.linear_model import LogisticRegression"
   ]
  },
  {
   "cell_type": "code",
   "execution_count": 78,
   "metadata": {},
   "outputs": [
    {
     "name": "stderr",
     "output_type": "stream",
     "text": [
      "E:\\accidentp\\Anaconda.Python\\lib\\site-packages\\sklearn\\linear_model\\logistic.py:432: FutureWarning: Default solver will be changed to 'lbfgs' in 0.22. Specify a solver to silence this warning.\n",
      "  FutureWarning)\n"
     ]
    },
    {
     "name": "stdout",
     "output_type": "stream",
     "text": [
      "Wall time: 931 ms\n"
     ]
    },
    {
     "data": {
      "text/plain": [
       "LogisticRegression(C=1.0, class_weight=None, dual=False, fit_intercept=True,\n",
       "                   intercept_scaling=1, l1_ratio=None, max_iter=100,\n",
       "                   multi_class='warn', n_jobs=None, penalty='l2',\n",
       "                   random_state=None, solver='warn', tol=0.0001, verbose=0,\n",
       "                   warm_start=False)"
      ]
     },
     "execution_count": 78,
     "metadata": {},
     "output_type": "execute_result"
    }
   ],
   "source": [
    "%%time\n",
    "logreg = LogisticRegression()\n",
    "model = logreg.fit(X_train,y_train)\n",
    "model"
   ]
  },
  {
   "cell_type": "code",
   "execution_count": 79,
   "metadata": {},
   "outputs": [
    {
     "data": {
      "text/plain": [
       "array([1, 1, 0, 1, 1, 1, 1, 1, 1, 1], dtype=int64)"
      ]
     },
     "execution_count": 79,
     "metadata": {},
     "output_type": "execute_result"
    }
   ],
   "source": [
    "y_pred_logreg = model.predict(X_test)\n",
    "y_pred_logreg[0:10]"
   ]
  },
  {
   "cell_type": "code",
   "execution_count": 80,
   "metadata": {},
   "outputs": [
    {
     "data": {
      "text/plain": [
       "9822     1\n",
       "6290     1\n",
       "324      0\n",
       "2829     1\n",
       "5241     1\n",
       "4918     1\n",
       "7276     1\n",
       "10055    1\n",
       "4393     1\n",
       "2047     1\n",
       "Name: Survived, dtype: int64"
      ]
     },
     "execution_count": 80,
     "metadata": {},
     "output_type": "execute_result"
    }
   ],
   "source": [
    "y_test[:10]"
   ]
  },
  {
   "cell_type": "markdown",
   "metadata": {},
   "source": [
    "# accuracy_score, confusion_matrix, classification_report, precision_score"
   ]
  },
  {
   "cell_type": "code",
   "execution_count": 81,
   "metadata": {},
   "outputs": [],
   "source": [
    "from sklearn.metrics import accuracy_score, confusion_matrix, classification_report, precision_score"
   ]
  },
  {
   "cell_type": "code",
   "execution_count": 82,
   "metadata": {},
   "outputs": [
    {
     "data": {
      "text/plain": [
       "0.9830659536541889"
      ]
     },
     "execution_count": 82,
     "metadata": {},
     "output_type": "execute_result"
    }
   ],
   "source": [
    "accuracy_score(y_test,y_pred_logreg)"
   ]
  },
  {
   "cell_type": "code",
   "execution_count": 83,
   "metadata": {},
   "outputs": [
    {
     "name": "stdout",
     "output_type": "stream",
     "text": [
      "              precision    recall  f1-score   support\n",
      "\n",
      "           0       0.93      0.91      0.92       236\n",
      "           1       0.99      0.99      0.99      2008\n",
      "\n",
      "    accuracy                           0.98      2244\n",
      "   macro avg       0.96      0.95      0.95      2244\n",
      "weighted avg       0.98      0.98      0.98      2244\n",
      "\n"
     ]
    }
   ],
   "source": [
    "print(classification_report(y_test,y_pred_logreg))"
   ]
  },
  {
   "cell_type": "code",
   "execution_count": 84,
   "metadata": {},
   "outputs": [
    {
     "data": {
      "text/plain": [
       "array([[ 214,   22],\n",
       "       [  16, 1992]], dtype=int64)"
      ]
     },
     "execution_count": 84,
     "metadata": {},
     "output_type": "execute_result"
    }
   ],
   "source": [
    "confusion_matrix(y_test,y_pred_logreg)"
   ]
  },
  {
   "cell_type": "code",
   "execution_count": 85,
   "metadata": {},
   "outputs": [
    {
     "data": {
      "text/plain": [
       "0.9890764647467726"
      ]
     },
     "execution_count": 85,
     "metadata": {},
     "output_type": "execute_result"
    }
   ],
   "source": [
    "precision_logreg = precision_score(y_test,y_pred_logreg)\n",
    "precision_logreg"
   ]
  },
  {
   "cell_type": "code",
   "execution_count": null,
   "metadata": {},
   "outputs": [],
   "source": []
  }
 ],
 "metadata": {
  "kernelspec": {
   "display_name": "Python 3",
   "language": "python",
   "name": "python3"
  },
  "language_info": {
   "codemirror_mode": {
    "name": "ipython",
    "version": 3
   },
   "file_extension": ".py",
   "mimetype": "text/x-python",
   "name": "python",
   "nbconvert_exporter": "python",
   "pygments_lexer": "ipython3",
   "version": "3.8.3"
  }
 },
 "nbformat": 4,
 "nbformat_minor": 2
}
